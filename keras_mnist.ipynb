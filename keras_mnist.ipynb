{
  "nbformat": 4,
  "nbformat_minor": 0,
  "metadata": {
    "colab": {
      "provenance": [],
      "collapsed_sections": []
    },
    "kernelspec": {
      "name": "python3",
      "display_name": "Python 3"
    },
    "language_info": {
      "name": "python"
    }
  },
  "cells": [
    {
      "cell_type": "code",
      "execution_count": 3,
      "metadata": {
        "colab": {
          "base_uri": "https://localhost:8080/"
        },
        "id": "_6HxMPfARRY_",
        "outputId": "ca0b2b08-d18c-4909-cfc0-0b846eb36989"
      },
      "outputs": [
        {
          "output_type": "stream",
          "name": "stdout",
          "text": [
            "Downloading data from https://storage.googleapis.com/tensorflow/tf-keras-datasets/mnist.npz\n",
            "11490434/11490434 [==============================] - 0s 0us/step\n"
          ]
        }
      ],
      "source": [
        "import numpy as np\n",
        "import pandas as pd\n",
        "from keras.datasets import mnist\n",
        "(X_train, y_train) , (X_test, y_test) = mnist.load_data()"
      ]
    },
    {
      "cell_type": "code",
      "source": [
        "import matplotlib.pyplot as plt\n",
        "%matplotlib inline\n",
        "plt.imshow(X_train[0] )\n",
        "plt.title(\" Digit \" + str(y_train[0]) )\n",
        "plt.xticks([])\n",
        "plt.yticks([])"
      ],
      "metadata": {
        "colab": {
          "base_uri": "https://localhost:8080/",
          "height": 285
        },
        "id": "3t4UDX4KScQx",
        "outputId": "7c31f44c-c5ae-4426-de75-177992f2dbf4"
      },
      "execution_count": 5,
      "outputs": [
        {
          "output_type": "execute_result",
          "data": {
            "text/plain": [
              "([], <a list of 0 Text major ticklabel objects>)"
            ]
          },
          "metadata": {},
          "execution_count": 5
        },
        {
          "output_type": "display_data",
          "data": {
            "text/plain": [
              "<Figure size 432x288 with 1 Axes>"
            ],
            "image/png": "[encoded data removed]"
          },
          "metadata": {}
        }
      ]
    },
    {
      "cell_type": "code",
      "source": [
        "X_train[0][18]"
      ],
      "metadata": {
        "colab": {
          "base_uri": "https://localhost:8080/"
        },
        "id": "JnEx6yUsSk7r",
        "outputId": "feac83c6-7a1e-46e1-8e50-3ddd5f8bc5e2"
      },
      "execution_count": 6,
      "outputs": [
        {
          "output_type": "execute_result",
          "data": {
            "text/plain": [
              "array([  0,   0,   0,   0,   0,   0,   0,   0,   0,   0,   0,   0,   0,\n",
              "         0,  46, 130, 183, 253, 253, 207,   2,   0,   0,   0,   0,   0,\n",
              "         0,   0], dtype=uint8)"
            ]
          },
          "metadata": {},
          "execution_count": 6
        }
      ]
    },
    {
      "cell_type": "code",
      "source": [
        "# Normalizing the input\n",
        "X_train= X_train.reshape(X_train.shape[0], 28, 28, 1)\n",
        "X_train = X_train.astype('float32')\n",
        "X_train/=255\n",
        "X_test = X_test.reshape(X_test.shape[0],28,28,1)\n",
        "X_test = X_test.astype('float32')\n",
        "X_test/=255\n",
        "print(X_train.shape)\n",
        "print(X_test.shape)"
      ],
      "metadata": {
        "colab": {
          "base_uri": "https://localhost:8080/"
        },
        "id": "KxZ_CKNcSpIi",
        "outputId": "ba3c3a3e-46fd-47d3-b0fd-3f178a57ca3c"
      },
      "execution_count": 7,
      "outputs": [
        {
          "output_type": "stream",
          "name": "stdout",
          "text": [
            "(60000, 28, 28, 1)\n",
            "(10000, 28, 28, 1)\n"
          ]
        }
      ]
    },
    {
      "cell_type": "code",
      "source": [
        "X_train[0][18]"
      ],
      "metadata": {
        "colab": {
          "base_uri": "https://localhost:8080/"
        },
        "id": "7M1IAfBMSuX7",
        "outputId": "72b23bf9-9630-4a08-e352-368a195acbcb"
      },
      "execution_count": 8,
      "outputs": [
        {
          "output_type": "execute_result",
          "data": {
            "text/plain": [
              "array([[0.        ],\n",
              "       [0.        ],\n",
              "       [0.        ],\n",
              "       [0.        ],\n",
              "       [0.        ],\n",
              "       [0.        ],\n",
              "       [0.        ],\n",
              "       [0.        ],\n",
              "       [0.        ],\n",
              "       [0.        ],\n",
              "       [0.        ],\n",
              "       [0.        ],\n",
              "       [0.        ],\n",
              "       [0.        ],\n",
              "       [0.18039216],\n",
              "       [0.50980395],\n",
              "       [0.7176471 ],\n",
              "       [0.99215686],\n",
              "       [0.99215686],\n",
              "       [0.8117647 ],\n",
              "       [0.00784314],\n",
              "       [0.        ],\n",
              "       [0.        ],\n",
              "       [0.        ],\n",
              "       [0.        ],\n",
              "       [0.        ],\n",
              "       [0.        ],\n",
              "       [0.        ]], dtype=float32)"
            ]
          },
          "metadata": {},
          "execution_count": 8
        }
      ]
    },
    {
      "cell_type": "code",
      "source": [
        "from  keras.utils import np_utils\n",
        "y_train = np_utils.to_categorical(y_train)\n",
        "y_test= np_utils.to_categorical(y_test)\n",
        "print(y_train[0])"
      ],
      "metadata": {
        "colab": {
          "base_uri": "https://localhost:8080/"
        },
        "id": "GRFu8isRS21E",
        "outputId": "b74dff9f-5274-43bb-a0bd-21dfec4b237c"
      },
      "execution_count": 9,
      "outputs": [
        {
          "output_type": "stream",
          "name": "stdout",
          "text": [
            "[0. 0. 0. 0. 0. 1. 0. 0. 0. 0.]\n"
          ]
        }
      ]
    },
    {
      "cell_type": "code",
      "source": [
        "from keras.models import Sequential\n",
        "classifier = Sequential()\n",
        "from keras.layers import Dense, Dropout, Activation, Flatten, MaxPool2D\n",
        "from keras.layers import Conv2D, BatchNormalization\n",
        "classifier.add(Conv2D(32, (3,3), input_shape=(28,28,1)))\n",
        "BatchNormalization(axis=-1) #Axis -1 is always the features axis\n",
        "classifier.add(Activation('relu'))\n",
        " \n",
        "classifier.add(Conv2D(32, (3,3)))\n",
        "BatchNormalization(axis=-1)\n",
        "classifier.add(Activation('relu'))\n",
        "classifier.add(MaxPool2D(pool_size=(2,2)))\n",
        "BatchNormalization(axis=-1)\n",
        "classifier.add(Conv2D(64, (3,3)))\n",
        "BatchNormalization(axis=-1)\n",
        "classifier.add(Activation('relu'))\n",
        "classifier.add(Conv2D(64, (3,3)))\n",
        "classifier.add(Activation('relu'))\n",
        "classifier.add(MaxPool2D(pool_size=(2,2)))\n",
        "classifier.add(Flatten())\n",
        "BatchNormalization()\n",
        "classifier.add(Dense(512))\n",
        "BatchNormalization()\n",
        "classifier.add(Activation('relu'))\n",
        "classifier.add(Dropout(0.2))\n",
        "classifier.add(Dense(10))\n",
        "classifier.add(Activation('softmax'))"
      ],
      "metadata": {
        "id": "zHbarEjdS94S"
      },
      "execution_count": 11,
      "outputs": []
    },
    {
      "cell_type": "code",
      "source": [
        "classifier.summary()"
      ],
      "metadata": {
        "colab": {
          "base_uri": "https://localhost:8080/"
        },
        "id": "LmtwvrAOTGE6",
        "outputId": "408123c4-3dfa-4585-c340-d5f92148257c"
      },
      "execution_count": 12,
      "outputs": [
        {
          "output_type": "stream",
          "name": "stdout",
          "text": [
            "Model: \"sequential_1\"\n",
            "_________________________________________________________________\n",
            " Layer (type)                Output Shape              Param #   \n",
            "=================================================================\n",
            " conv2d_4 (Conv2D)           (None, 26, 26, 32)        320       \n",
            "                                                                 \n",
            " activation_6 (Activation)   (None, 26, 26, 32)        0         \n",
            "                                                                 \n",
            " conv2d_5 (Conv2D)           (None, 24, 24, 32)        9248      \n",
            "                                                                 \n",
            " activation_7 (Activation)   (None, 24, 24, 32)        0         \n",
            "                                                                 \n",
            " max_pooling2d_2 (MaxPooling  (None, 12, 12, 32)       0         \n",
            " 2D)                                                             \n",
            "                                                                 \n",
            " conv2d_6 (Conv2D)           (None, 10, 10, 64)        18496     \n",
            "                                                                 \n",
            " activation_8 (Activation)   (None, 10, 10, 64)        0         \n",
            "                                                                 \n",
            " conv2d_7 (Conv2D)           (None, 8, 8, 64)          36928     \n",
            "                                                                 \n",
            " activation_9 (Activation)   (None, 8, 8, 64)          0         \n",
            "                                                                 \n",
            " max_pooling2d_3 (MaxPooling  (None, 4, 4, 64)         0         \n",
            " 2D)                                                             \n",
            "                                                                 \n",
            " flatten_1 (Flatten)         (None, 1024)              0         \n",
            "                                                                 \n",
            " dense_2 (Dense)             (None, 512)               524800    \n",
            "                                                                 \n",
            " activation_10 (Activation)  (None, 512)               0         \n",
            "                                                                 \n",
            " dropout_1 (Dropout)         (None, 512)               0         \n",
            "                                                                 \n",
            " dense_3 (Dense)             (None, 10)                5130      \n",
            "                                                                 \n",
            " activation_11 (Activation)  (None, 10)                0         \n",
            "                                                                 \n",
            "=================================================================\n",
            "Total params: 594,922\n",
            "Trainable params: 594,922\n",
            "Non-trainable params: 0\n",
            "_________________________________________________________________\n"
          ]
        }
      ]
    },
    {
      "cell_type": "code",
      "source": [
        "classifier.compile(optimizer='adam', loss='categorical_crossentropy', metrics=['accuracy'])"
      ],
      "metadata": {
        "id": "9knPxRZqUZwX"
      },
      "execution_count": 13,
      "outputs": []
    },
    {
      "cell_type": "code",
      "source": [
        "from keras.preprocessing.image import ImageDataGenerator\n",
        "# applying transformation to image\n",
        "train_gen = ImageDataGenerator(rotation_range=8, \n",
        "                               width_shift_range=0.08, \n",
        "                               shear_range=0.3, \n",
        "                               height_shift_range=0.08, \n",
        "                               zoom_range=0.08 )\n",
        "test_gen = ImageDataGenerator()"
      ],
      "metadata": {
        "id": "F7yMwVnnUdP0"
      },
      "execution_count": 14,
      "outputs": []
    },
    {
      "cell_type": "code",
      "source": [
        "training_set= train_gen.flow(X_train, y_train, batch_size=64)\n",
        "test_set= train_gen.flow(X_test, y_test, batch_size=64)"
      ],
      "metadata": {
        "id": "mTtZWODoUhSu"
      },
      "execution_count": 15,
      "outputs": []
    },
    {
      "cell_type": "code",
      "source": [
        "classifier.fit_generator(training_set, \n",
        "                         steps_per_epoch=60000//64, \n",
        "                         validation_data= test_set, \n",
        "                         validation_steps=10000//64, \n",
        "                         epochs=5)"
      ],
      "metadata": {
        "colab": {
          "base_uri": "https://localhost:8080/"
        },
        "id": "Mxz9rdkHUkYN",
        "outputId": "fc083f7d-96ea-4729-cfbc-8c1e7ec21019"
      },
      "execution_count": 16,
      "outputs": [
        {
          "output_type": "stream",
          "name": "stderr",
          "text": [
            "/usr/local/lib/python3.7/dist-packages/ipykernel_launcher.py:5: UserWarning: `Model.fit_generator` is deprecated and will be removed in a future version. Please use `Model.fit`, which supports generators.\n",
            "  \"\"\"\n"
          ]
        },
        {
          "output_type": "stream",
          "name": "stdout",
          "text": [
            "Epoch 1/5\n",
            "937/937 [==============================] - 194s 206ms/step - loss: 0.2119 - accuracy: 0.9319 - val_loss: 0.0561 - val_accuracy: 0.9808\n",
            "Epoch 2/5\n",
            "937/937 [==============================] - 180s 192ms/step - loss: 0.0649 - accuracy: 0.9798 - val_loss: 0.0432 - val_accuracy: 0.9866\n",
            "Epoch 3/5\n",
            "937/937 [==============================] - 178s 190ms/step - loss: 0.0497 - accuracy: 0.9849 - val_loss: 0.0308 - val_accuracy: 0.9898\n",
            "Epoch 4/5\n",
            "937/937 [==============================] - 177s 189ms/step - loss: 0.0408 - accuracy: 0.9876 - val_loss: 0.0370 - val_accuracy: 0.9878\n",
            "Epoch 5/5\n",
            "937/937 [==============================] - 178s 190ms/step - loss: 0.0367 - accuracy: 0.9887 - val_loss: 0.0312 - val_accuracy: 0.9888\n"
          ]
        },
        {
          "output_type": "execute_result",
          "data": {
            "text/plain": [
              "<keras.callbacks.History at 0x7f643cb100d0>"
            ]
          },
          "metadata": {},
          "execution_count": 16
        }
      ]
    }
  ]
}